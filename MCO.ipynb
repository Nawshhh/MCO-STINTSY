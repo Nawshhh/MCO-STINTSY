{
 "cells": [
  {
   "cell_type": "markdown",
   "id": "427f731e",
   "metadata": {},
   "source": [
    "# STINTSY MCO\n",
    "The Major Course Output for STINTSY (Advanced Intelligent Systems) will include 11 sections. The following sections are:\n",
    "- **Section 1** : Introduction to the problem/task and dataset\n",
    "- **Section 2** : Description of the dataset\n",
    "- **Section 3** : List of requirements\n",
    "- **Section 4** : Data preprocessing and cleaning\n",
    "- **Section 5** : Exploratory data analysis\n",
    "- **Section 6** : Initial model training\n",
    "- **Section 7** : Error analysis\n",
    "- **Section 8** : Improving model performance\n",
    "- **Section 9** : Model Performance Summary\n",
    "- **Section 10** : Insights and conclusions\n",
    "- **Section 11** : References"
   ]
  },
  {
   "cell_type": "markdown",
   "id": "92bbc32f",
   "metadata": {},
   "source": [
    "## Section 1 : Introduction \n",
    "\n",
    "Each group should select one real-world dataset from the list of datasets provided for the project. Each dataset is accompanied with a description file, which also contains detailed description of each feature.\n",
    "\n",
    "The target task (i.e., classification or regression) should be properly stated as well."
   ]
  },
  {
   "cell_type": "markdown",
   "id": "5fffe119",
   "metadata": {},
   "source": [
    "## Section 2 : Description of Dataset\n",
    "In this section of the notebook, you must fulfill the following:\n",
    "- State a brief description of the dataset.\n",
    "- Provide a description of the collection process executed to build the dataset. Discuss the implications of the data collection method on the generated conclusions and insights. Note that you may need to look at relevant sources related to the dataset to acquire necessary information for this part of the project.\n",
    "- Describe the structure of the dataset file.\n",
    "    - What does each row and column represent?\n",
    "    - How many instances are there in the dataset?\n",
    "    - How many features are there in the dataset?\n",
    "    - If the dataset is composed of different files that you will combine in the succeeding steps, describe the structure and the contents of each file.\n",
    "- Discuss the features in each dataset file. What does each feature represent? All features, even those which are not used for the study, should be described to the reader. The purpose of each feature in the dataset should be clear to the reader of the notebook without having to go through an external link."
   ]
  },
  {
   "cell_type": "markdown",
   "id": "a51b6002",
   "metadata": {},
   "source": [
    "## Section 3 : List of Requirements\n",
    "List all the Python libraries and modules that you used."
   ]
  },
  {
   "cell_type": "markdown",
   "id": "05b0009b",
   "metadata": {},
   "source": [
    "## Section 4 : Data Preprocessing and Cleaning\n",
    "\n",
    "Perform necessary steps before using the data. In this section of the notebook, please take note of the following:\n",
    "\n",
    "- If needed, perform preprocessing techniques to transform the data to the appropriate representation. This may include binning, log transformations, conversion to one-hot encoding, normalization, standardization, interpolation, truncation, and feature engineering, among others. There should be a correct and proper justification for the use of each preprocessing technique used in the project.\n",
    "- Make sure that the data is clean, especially features that are used in the project. This may include checking for misrepresentations, checking the data type, dealing with missing data, dealing with duplicate data, and dealing with outliers, among others. There should be a correct and proper justification for the application (or non-application) of each data cleaning method used in the project. Clean only the variables utilized in the study."
   ]
  },
  {
   "cell_type": "markdown",
   "id": "94d9f09a",
   "metadata": {},
   "source": [
    "## Section 5 : Exploratory Data Analysis\n",
    "\n",
    "Perform exploratory data analysis comprehensively to gain a good understanding of your dataset. In this section of the notebook, you must present relevant numerical summaries and visualizations. Make sure that each code is accompanied by a brief explanation. The whole process should be supported with verbose textual descriptions of your procedures and findings."
   ]
  },
  {
   "cell_type": "markdown",
   "id": "af8dc8f2",
   "metadata": {},
   "source": [
    "## Section 6 : Initial Model Training\n",
    "Use machine learning models to accomplish your chosen task (i.e., classification or regression) for the dataset. In this section of the notebook, please take note of the following:\n",
    "- The project should train and evaluate <u> at least 3 different kinds</u> of machine learning models. The models should not be multiple variations of the same model, e.g., three neural network models with different number of neurons.\n",
    "- Each model should be appropriate in accomplishing the chosen task for the dataset. There should be a clear and correct justification on the use of each machine learning model.\n",
    "- Make sure that the values of the hyperparameters of each model are mentioned. At the minimum, the optimizer, the learning rate, and the learning rate schedule should be discussed per model.\n",
    "- The report should show that the models are not overfitting nor underfitting."
   ]
  },
  {
   "cell_type": "markdown",
   "id": "1f6474d2",
   "metadata": {},
   "source": [
    "### Section 6.1 : K-Nearest Neighbor"
   ]
  },
  {
   "cell_type": "markdown",
   "id": "0da13f58",
   "metadata": {},
   "source": [
    "### Section 6.2 : Linear Regression"
   ]
  },
  {
   "cell_type": "markdown",
   "id": "cb14fd20",
   "metadata": {},
   "source": [
    "### Section 6.3 : Logistic Regression"
   ]
  },
  {
   "cell_type": "markdown",
   "id": "833e77ca",
   "metadata": {},
   "source": [
    "## Section 7 : Error Analysis\n",
    "Perform error analysis on the output of all models used in the project. In this section of the notebook, you should:\n",
    "- Report and properly interpret the initial performance of all models using appropriate evaluation metrics.\n",
    "- Identify difficult classes and/or instances. For classification tasks, these are classes and/or instances that are difficult to classify. Hint: You may use confusion matrix for this. For regression tasks, these are instances that produces high error."
   ]
  },
  {
   "cell_type": "markdown",
   "id": "4b23cc02",
   "metadata": {},
   "source": [
    "### Section 7.1 : Error Analysis for K-Nearest Neighbor"
   ]
  },
  {
   "cell_type": "markdown",
   "id": "23ee53d6",
   "metadata": {},
   "source": [
    "### Section 7.2 : Error Analysis for Linear Regression"
   ]
  },
  {
   "cell_type": "markdown",
   "id": "5ba75c51",
   "metadata": {},
   "source": [
    "### Section 7.3 : Error Analysis for Logistic Regression"
   ]
  },
  {
   "cell_type": "markdown",
   "id": "98f5831f",
   "metadata": {},
   "source": [
    "## Section 8 : Improving Model Performance\n",
    "Perform grid search or random search to tune the hyperparameters of each model. You should also tune each model to reduce the error in difficult classes and/or instances. In this section of the notebook, please take note of the following:\n",
    "- Make sure to elaborately explain the method of hyperparameter tuning.\n",
    "- Explicitly mention the different hyperparameters and their range of values. Show the corresponding performance of each configuration.\n",
    "- Report the performance of all models using appropriate evaluation metrics and visualizations.\n",
    "- Properly interpret the result based on relevant evaluation metrics."
   ]
  },
  {
   "cell_type": "markdown",
   "id": "d62adc38",
   "metadata": {},
   "source": [
    "### Section 8.1 : Improving K-Nearest Neighbor"
   ]
  },
  {
   "cell_type": "markdown",
   "id": "31eb06a7",
   "metadata": {},
   "source": [
    "### Section 8.2 : Improving Linear Regression"
   ]
  },
  {
   "cell_type": "markdown",
   "id": "538c19d2",
   "metadata": {},
   "source": [
    "### Section 8.3 : Improving Logistic Regression"
   ]
  },
  {
   "cell_type": "markdown",
   "id": "dc5a114d",
   "metadata": {},
   "source": [
    "## Section 9 : Model Performance Summary\n",
    "Present a summary of all model configurations. In this section of the notebook, do the following:\n",
    "- Discuss each algorithm and the best set of values for its hyperparameters. Identify the best model configuration and discuss its advantage over other configurations.\n",
    "- Discuss how tuning each model helped in reducing its error in difficult classes and/or instances."
   ]
  },
  {
   "cell_type": "markdown",
   "id": "0ff9be70",
   "metadata": {},
   "source": [
    "## Section 10 : Insights and Conclusion\n",
    "Clearly state your insights and conclusions from training a model on the data. Why did some models produce better results? Summarize your conclusions to explain the performance of the models. Discuss recommendations to improve the performance of the model."
   ]
  },
  {
   "cell_type": "markdown",
   "id": "9979051a",
   "metadata": {},
   "source": [
    "## Section 11 : References\n",
    "Cite relevant references that you used in your project. All references must be cited, including:\n",
    "- Scholarly Articles – Cite in APA format and put a description of how you used it for your work.\n",
    "- Online references, blogs, articles that helped you come up with your project – Put the website, blog, or article title, link, and how you incorporated it into your work.\n",
    "- Artificial Intelligence (AI) Tools – Put the model used (e.g., ChatGPT, Gemini), the complete transcript of your conversations with the model (including your prompts and its responses), and a description of how you used it for your work.\n"
   ]
  },
  {
   "cell_type": "code",
   "execution_count": null,
   "id": "6d18536c",
   "metadata": {},
   "outputs": [],
   "source": []
  }
 ],
 "metadata": {
  "kernelspec": {
   "display_name": "Python 3 (ipykernel)",
   "language": "python",
   "name": "python3"
  },
  "language_info": {
   "codemirror_mode": {
    "name": "ipython",
    "version": 3
   },
   "file_extension": ".py",
   "mimetype": "text/x-python",
   "name": "python",
   "nbconvert_exporter": "python",
   "pygments_lexer": "ipython3",
   "version": "3.11.7"
  }
 },
 "nbformat": 4,
 "nbformat_minor": 5
}
